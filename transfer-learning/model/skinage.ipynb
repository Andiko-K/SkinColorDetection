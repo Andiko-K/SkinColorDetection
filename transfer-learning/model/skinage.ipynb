{
  "nbformat": 4,
  "nbformat_minor": 0,
  "metadata": {
    "colab": {
      "provenance": [],
      "gpuType": "T4",
      "include_colab_link": true
    },
    "kernelspec": {
      "name": "python3",
      "display_name": "Python 3"
    },
    "language_info": {
      "name": "python"
    },
    "accelerator": "GPU"
  },
  "cells": [
    {
      "cell_type": "markdown",
      "metadata": {
        "id": "view-in-github",
        "colab_type": "text"
      },
      "source": [
        "<a href=\"https://colab.research.google.com/github/Andiko-K/SkinColorDetection/blob/main/transfer-learning/model/skinage.ipynb\" target=\"_parent\"><img src=\"https://colab.research.google.com/assets/colab-badge.svg\" alt=\"Open In Colab\"/></a>"
      ]
    },
    {
      "cell_type": "code",
      "execution_count": null,
      "metadata": {
        "id": "Ki-71OdJmB4o"
      },
      "outputs": [],
      "source": [
        "import urllib.request\n",
        "import zipfile\n",
        "import os, shutil\n",
        "\n",
        "import tensorflow as tf\n",
        "from sklearn.model_selection import train_test_split\n",
        "import tensorflow_hub as hub\n",
        "\n",
        "import random\n",
        "import numpy as np\n",
        "from matplotlib import pyplot as plt\n",
        "import seaborn as sns\n",
        "from PIL import Image"
      ]
    },
    {
      "cell_type": "markdown",
      "source": [],
      "metadata": {
        "id": "8hFLedign-Ui"
      }
    },
    {
      "cell_type": "markdown",
      "source": [
        "# Installing Dataset"
      ],
      "metadata": {
        "id": "w89xYYtzP-4S"
      }
    },
    {
      "cell_type": "code",
      "source": [
        "!gdown --id 1DykQEw5JvLudKa2NIRQDuwo-IzB3Bntj"
      ],
      "metadata": {
        "colab": {
          "base_uri": "https://localhost:8080/"
        },
        "id": "IPRCi2ckPaAf",
        "outputId": "fe36002a-39f6-4456-9de8-3724e03a1d86"
      },
      "execution_count": null,
      "outputs": [
        {
          "output_type": "stream",
          "name": "stdout",
          "text": [
            "/usr/local/lib/python3.10/dist-packages/gdown/__main__.py:132: FutureWarning: Option `--id` was deprecated in version 4.3.1 and will be removed in 5.0. You don't need to pass it anymore to use a file ID.\n",
            "  warnings.warn(\n",
            "Downloading...\n",
            "From (original): https://drive.google.com/uc?id=1DykQEw5JvLudKa2NIRQDuwo-IzB3Bntj\n",
            "From (redirected): https://drive.google.com/uc?id=1DykQEw5JvLudKa2NIRQDuwo-IzB3Bntj&confirm=t&uuid=5b67eb40-c75f-4290-9e0a-84defbbdf6f1\n",
            "To: /content/face_age.zip\n",
            "100% 222M/222M [00:08<00:00, 25.6MB/s]\n"
          ]
        }
      ]
    },
    {
      "cell_type": "markdown",
      "source": [
        "# Data Exploration"
      ],
      "metadata": {
        "id": "gHMrgcUaZalu"
      }
    },
    {
      "cell_type": "code",
      "source": [
        "local_file = 'face_age.zip'\n",
        "destination = './face_age/'\n",
        "\n",
        "zip_ref = zipfile.ZipFile(local_file, 'r')\n",
        "zip_ref.extractall(destination)\n",
        "zip_ref.close()"
      ],
      "metadata": {
        "id": "amgxDZUFQAnj"
      },
      "execution_count": null,
      "outputs": []
    },
    {
      "cell_type": "markdown",
      "source": [
        "# Data Splitting"
      ],
      "metadata": {
        "id": "QepJRgU2aWPE"
      }
    },
    {
      "cell_type": "code",
      "source": [
        "original_dir = './face_age'\n",
        "X = []\n",
        "Y = []\n",
        "for count, (folder_name, _, filenames) in enumerate(os.walk(original_dir)):\n",
        "  if count != 0:\n",
        "    for file_ in filenames:\n",
        "      file_path = os.path.join(folder_name, file_)\n",
        "      image = Image.open(file_path)\n",
        "      image = image.convert('RGB')\n",
        "      image = image.resize((128, 128))\n",
        "      X.append(np.array(image))\n",
        "      Y.append(int(folder_name[-3:]))\n",
        "\n",
        "X = np.array(X)/255.0\n",
        "X = X.astype('float32')\n",
        "Y = np.array(Y)\n",
        "X_train, X_test, Y_train, Y_test = train_test_split(\n",
        "    X, Y,\n",
        "    train_size=.8,\n",
        "    shuffle=True,\n",
        "    stratify=Y\n",
        ")"
      ],
      "metadata": {
        "id": "z8omsY3xD7LR"
      },
      "execution_count": null,
      "outputs": []
    },
    {
      "cell_type": "markdown",
      "source": [
        "# Tensorflow Hub Model"
      ],
      "metadata": {
        "id": "PIT0G8JMoTz8"
      }
    },
    {
      "cell_type": "code",
      "source": [
        "transfer_model = ('https://www.kaggle.com/models/google/mobilenet-v2/TensorFlow2/035-128-feature-vector/2', 128)"
      ],
      "metadata": {
        "id": "cLzPFfpwoC8V"
      },
      "execution_count": null,
      "outputs": []
    },
    {
      "cell_type": "markdown",
      "source": [
        "# Define Model"
      ],
      "metadata": {
        "id": "EKwUHcuMiojC"
      }
    },
    {
      "cell_type": "code",
      "source": [
        "def create_model(transfer_model = None):\n",
        "  module_handle, shape = transfer_model\n",
        "  image_size = (shape, shape)\n",
        "  feature_extractor = hub.KerasLayer(module_handle, input_shape = image_size + (3,), trainable = True)\n",
        "\n",
        "  model = tf.keras.Sequential([\n",
        "      feature_extractor,\n",
        "      tf.keras.layers.BatchNormalization(),\n",
        "      tf.keras.layers.Dropout(.5),\n",
        "      tf.keras.layers.Dense(1)\n",
        "  ])\n",
        "\n",
        "  optimizer = 'adam'\n",
        "  model.compile(optimizer = optimizer,\n",
        "                loss = 'mae',\n",
        "                metrics = ['mae'])\n",
        "  return model"
      ],
      "metadata": {
        "id": "5VLfVziqiquA"
      },
      "execution_count": null,
      "outputs": []
    },
    {
      "cell_type": "markdown",
      "source": [
        "# Train Model"
      ],
      "metadata": {
        "id": "uAfNu8B_k-Iy"
      }
    },
    {
      "cell_type": "code",
      "source": [
        "model = create_model(transfer_model = transfer_model)"
      ],
      "metadata": {
        "id": "_g2Q3A-b6FBt"
      },
      "execution_count": null,
      "outputs": []
    },
    {
      "cell_type": "code",
      "source": [
        "EarlyStop = tf.keras.callbacks.EarlyStopping(monitor = 'val_mae', patience = 10, mode = 'min',\n",
        "                                             restore_best_weights = True, start_from_epoch = 10,\n",
        "                                             min_delta = .001)\n",
        "ReduceLR = tf.keras.callbacks.ReduceLROnPlateau(monitor = 'val_mae', mode = 'min', min_delta = .001, patience = 3)\n",
        "\n",
        "model.fit(X_train, Y_train, epochs = 100, callbacks = [ReduceLR, EarlyStop],\n",
        "          validation_data = (X_test, Y_test))"
      ],
      "metadata": {
        "colab": {
          "base_uri": "https://localhost:8080/"
        },
        "collapsed": true,
        "id": "egxCwaKQ4hzU",
        "outputId": "6ccb0066-5d06-4535-ebfd-d1e728758af1"
      },
      "execution_count": null,
      "outputs": [
        {
          "output_type": "stream",
          "name": "stdout",
          "text": [
            "Epoch 1/100\n",
            "125/125 [==============================] - 46s 137ms/step - loss: 30.4135 - mae: 30.3817 - val_loss: 27.0903 - val_mae: 27.0581 - lr: 0.0010\n",
            "Epoch 2/100\n",
            "125/125 [==============================] - 13s 107ms/step - loss: 12.6187 - mae: 12.5856 - val_loss: 15.3545 - val_mae: 15.3206 - lr: 0.0010\n",
            "Epoch 3/100\n",
            "125/125 [==============================] - 12s 95ms/step - loss: 8.3237 - mae: 8.2894 - val_loss: 8.1294 - val_mae: 8.0948 - lr: 0.0010\n",
            "Epoch 4/100\n",
            "125/125 [==============================] - 14s 114ms/step - loss: 7.2978 - mae: 7.2630 - val_loss: 8.0645 - val_mae: 8.0295 - lr: 0.0010\n",
            "Epoch 5/100\n",
            "125/125 [==============================] - 11s 86ms/step - loss: 6.8627 - mae: 6.8275 - val_loss: 7.0162 - val_mae: 6.9807 - lr: 0.0010\n",
            "Epoch 6/100\n",
            "125/125 [==============================] - 11s 90ms/step - loss: 6.5606 - mae: 6.5249 - val_loss: 7.3961 - val_mae: 7.3603 - lr: 0.0010\n",
            "Epoch 7/100\n",
            "125/125 [==============================] - 12s 98ms/step - loss: 6.2872 - mae: 6.2512 - val_loss: 6.7476 - val_mae: 6.7114 - lr: 0.0010\n",
            "Epoch 8/100\n",
            "125/125 [==============================] - 9s 69ms/step - loss: 6.0180 - mae: 5.9816 - val_loss: 6.2017 - val_mae: 6.1651 - lr: 0.0010\n",
            "Epoch 9/100\n",
            "125/125 [==============================] - 12s 99ms/step - loss: 5.7698 - mae: 5.7330 - val_loss: 6.3727 - val_mae: 6.3358 - lr: 0.0010\n",
            "Epoch 10/100\n",
            "125/125 [==============================] - 11s 91ms/step - loss: 5.5164 - mae: 5.4793 - val_loss: 7.0540 - val_mae: 7.0167 - lr: 0.0010\n",
            "Epoch 11/100\n",
            "125/125 [==============================] - 12s 93ms/step - loss: 5.4114 - mae: 5.3740 - val_loss: 6.4032 - val_mae: 6.3655 - lr: 0.0010\n",
            "Epoch 12/100\n",
            "125/125 [==============================] - 12s 95ms/step - loss: 4.8557 - mae: 4.8181 - val_loss: 5.4976 - val_mae: 5.4599 - lr: 1.0000e-04\n",
            "Epoch 13/100\n",
            "125/125 [==============================] - 11s 89ms/step - loss: 4.7659 - mae: 4.7283 - val_loss: 5.5475 - val_mae: 5.5099 - lr: 1.0000e-04\n",
            "Epoch 14/100\n",
            "125/125 [==============================] - 12s 98ms/step - loss: 4.5963 - mae: 4.5586 - val_loss: 5.4994 - val_mae: 5.4617 - lr: 1.0000e-04\n",
            "Epoch 15/100\n",
            "125/125 [==============================] - 10s 78ms/step - loss: 4.5060 - mae: 4.4683 - val_loss: 5.4966 - val_mae: 5.4590 - lr: 1.0000e-04\n",
            "Epoch 16/100\n",
            "125/125 [==============================] - 15s 117ms/step - loss: 4.3889 - mae: 4.3513 - val_loss: 5.5077 - val_mae: 5.4701 - lr: 1.0000e-05\n",
            "Epoch 17/100\n",
            "125/125 [==============================] - 14s 110ms/step - loss: 4.4602 - mae: 4.4226 - val_loss: 5.5117 - val_mae: 5.4740 - lr: 1.0000e-05\n",
            "Epoch 18/100\n",
            "125/125 [==============================] - 11s 85ms/step - loss: 4.4934 - mae: 4.4557 - val_loss: 5.5238 - val_mae: 5.4862 - lr: 1.0000e-05\n",
            "Epoch 19/100\n",
            "125/125 [==============================] - 13s 101ms/step - loss: 4.4059 - mae: 4.3683 - val_loss: 5.5217 - val_mae: 5.4840 - lr: 1.0000e-06\n",
            "Epoch 20/100\n",
            "125/125 [==============================] - 13s 99ms/step - loss: 4.3094 - mae: 4.2717 - val_loss: 5.5216 - val_mae: 5.4839 - lr: 1.0000e-06\n",
            "Epoch 21/100\n",
            "125/125 [==============================] - 11s 86ms/step - loss: 4.3572 - mae: 4.3196 - val_loss: 5.5227 - val_mae: 5.4851 - lr: 1.0000e-06\n",
            "Epoch 22/100\n",
            "125/125 [==============================] - 13s 103ms/step - loss: 4.3099 - mae: 4.2722 - val_loss: 5.5233 - val_mae: 5.4857 - lr: 1.0000e-07\n"
          ]
        },
        {
          "output_type": "execute_result",
          "data": {
            "text/plain": [
              "<keras.src.callbacks.History at 0x7a5bf3eea1d0>"
            ]
          },
          "metadata": {},
          "execution_count": 16
        }
      ]
    },
    {
      "cell_type": "markdown",
      "source": [
        "# Save Model"
      ],
      "metadata": {
        "id": "OcNnMOBKpKj-"
      }
    },
    {
      "cell_type": "code",
      "source": [
        "model_path = './model/skinage_mobilev2.h5'\n",
        "model.save(model_path)"
      ],
      "metadata": {
        "id": "sElv0g5MpIMM"
      },
      "execution_count": null,
      "outputs": []
    },
    {
      "cell_type": "code",
      "source": [
        "from google.colab import files\n",
        "files.download(model_path)"
      ],
      "metadata": {
        "colab": {
          "base_uri": "https://localhost:8080/",
          "height": 17
        },
        "id": "O1RfKvtcogPp",
        "outputId": "f9ea41ba-e6b6-4cec-92f6-cd7a741e85c1"
      },
      "execution_count": null,
      "outputs": [
        {
          "output_type": "display_data",
          "data": {
            "text/plain": [
              "<IPython.core.display.Javascript object>"
            ],
            "application/javascript": [
              "\n",
              "    async function download(id, filename, size) {\n",
              "      if (!google.colab.kernel.accessAllowed) {\n",
              "        return;\n",
              "      }\n",
              "      const div = document.createElement('div');\n",
              "      const label = document.createElement('label');\n",
              "      label.textContent = `Downloading \"${filename}\": `;\n",
              "      div.appendChild(label);\n",
              "      const progress = document.createElement('progress');\n",
              "      progress.max = size;\n",
              "      div.appendChild(progress);\n",
              "      document.body.appendChild(div);\n",
              "\n",
              "      const buffers = [];\n",
              "      let downloaded = 0;\n",
              "\n",
              "      const channel = await google.colab.kernel.comms.open(id);\n",
              "      // Send a message to notify the kernel that we're ready.\n",
              "      channel.send({})\n",
              "\n",
              "      for await (const message of channel.messages) {\n",
              "        // Send a message to notify the kernel that we're ready.\n",
              "        channel.send({})\n",
              "        if (message.buffers) {\n",
              "          for (const buffer of message.buffers) {\n",
              "            buffers.push(buffer);\n",
              "            downloaded += buffer.byteLength;\n",
              "            progress.value = downloaded;\n",
              "          }\n",
              "        }\n",
              "      }\n",
              "      const blob = new Blob(buffers, {type: 'application/binary'});\n",
              "      const a = document.createElement('a');\n",
              "      a.href = window.URL.createObjectURL(blob);\n",
              "      a.download = filename;\n",
              "      div.appendChild(a);\n",
              "      a.click();\n",
              "      div.remove();\n",
              "    }\n",
              "  "
            ]
          },
          "metadata": {}
        },
        {
          "output_type": "display_data",
          "data": {
            "text/plain": [
              "<IPython.core.display.Javascript object>"
            ],
            "application/javascript": [
              "download(\"download_ef0a7f15-19d4-4235-9bb7-8616f09a2cc1\", \"skinage_mobilev2.h5\", 5490888)"
            ]
          },
          "metadata": {}
        }
      ]
    }
  ]
}