{
  "nbformat": 4,
  "nbformat_minor": 0,
  "metadata": {
    "colab": {
      "provenance": [],
      "gpuType": "T4",
      "include_colab_link": true
    },
    "kernelspec": {
      "name": "python3",
      "display_name": "Python 3"
    },
    "language_info": {
      "name": "python"
    },
    "accelerator": "GPU"
  },
  "cells": [
    {
      "cell_type": "markdown",
      "metadata": {
        "id": "view-in-github",
        "colab_type": "text"
      },
      "source": [
        "<a href=\"https://colab.research.google.com/github/Andiko-K/SkinColorDetection/blob/main/transfer-learning/model/skincolor.ipynb\" target=\"_parent\"><img src=\"https://colab.research.google.com/assets/colab-badge.svg\" alt=\"Open In Colab\"/></a>"
      ]
    },
    {
      "cell_type": "code",
      "execution_count": null,
      "metadata": {
        "id": "Ki-71OdJmB4o"
      },
      "outputs": [],
      "source": [
        "import urllib.request\n",
        "import zipfile\n",
        "import os, shutil\n",
        "\n",
        "import tensorflow as tf\n",
        "from tensorflow.keras.preprocessing.image import ImageDataGenerator\n",
        "import tensorflow_hub as hub\n",
        "\n",
        "import random\n",
        "import numpy as np\n",
        "from matplotlib import pyplot as plt\n",
        "import seaborn as sns"
      ]
    },
    {
      "cell_type": "markdown",
      "source": [],
      "metadata": {
        "id": "8hFLedign-Ui"
      }
    },
    {
      "cell_type": "markdown",
      "source": [
        "# Installing Dataset"
      ],
      "metadata": {
        "id": "w89xYYtzP-4S"
      }
    },
    {
      "cell_type": "code",
      "source": [
        "!gdown --id 1Q6Li-WpLd277mByjoDRUhjCCiTVhcYxT"
      ],
      "metadata": {
        "colab": {
          "base_uri": "https://localhost:8080/"
        },
        "id": "IPRCi2ckPaAf",
        "outputId": "7a8f6356-2cf8-40e9-f902-bd5632d7391b"
      },
      "execution_count": null,
      "outputs": [
        {
          "output_type": "stream",
          "name": "stdout",
          "text": [
            "/usr/local/lib/python3.10/dist-packages/gdown/__main__.py:132: FutureWarning: Option `--id` was deprecated in version 4.3.1 and will be removed in 5.0. You don't need to pass it anymore to use a file ID.\n",
            "  warnings.warn(\n",
            "Downloading...\n",
            "From (original): https://drive.google.com/uc?id=1Q6Li-WpLd277mByjoDRUhjCCiTVhcYxT\n",
            "From (redirected): https://drive.google.com/uc?id=1Q6Li-WpLd277mByjoDRUhjCCiTVhcYxT&confirm=t&uuid=b85a0b45-0882-42c6-9c30-a839a68281d8\n",
            "To: /content/mst_dataset.zip\n",
            "100% 313M/313M [00:04<00:00, 72.5MB/s]\n"
          ]
        }
      ]
    },
    {
      "cell_type": "markdown",
      "source": [
        "# Data Exploration"
      ],
      "metadata": {
        "id": "gHMrgcUaZalu"
      }
    },
    {
      "cell_type": "code",
      "source": [
        "local_file = 'mst_dataset.zip'\n",
        "destination = './mst_datasets/'\n",
        "\n",
        "zip_ref = zipfile.ZipFile(local_file, 'r')\n",
        "zip_ref.extractall(destination)\n",
        "zip_ref.close()"
      ],
      "metadata": {
        "id": "amgxDZUFQAnj"
      },
      "execution_count": null,
      "outputs": []
    },
    {
      "cell_type": "markdown",
      "source": [
        "# Data Splitting"
      ],
      "metadata": {
        "id": "QepJRgU2aWPE"
      }
    },
    {
      "cell_type": "code",
      "source": [
        "original_dir = './mst_datasets'\n",
        "def split_data(original_dir = original_dir, train_split = None,\n",
        "               train_num = None, val_num = None):\n",
        "  train_dir = './datasets/train/'\n",
        "  val_dir = './datasets/validation'\n",
        "\n",
        "  os.makedirs(train_dir, exist_ok = True)\n",
        "  os.makedirs(val_dir, exist_ok = True)\n",
        "\n",
        "  for category in os.listdir(original_dir):\n",
        "    train_cat_dir = os.path.join(train_dir, category)\n",
        "    val_cat_dir = os.path.join(val_dir, category)\n",
        "\n",
        "    os.makedirs(train_cat_dir, exist_ok = True)\n",
        "    os.makedirs(val_cat_dir, exist_ok = True)\n",
        "\n",
        "    #Get Images List and Shuffle\n",
        "    category_dir = os.path.join(original_dir, category)\n",
        "    images = os.listdir(category_dir)\n",
        "    random.shuffle(images)\n",
        "\n",
        "    #Split images if train_split is specified\n",
        "    if train_split is not None:\n",
        "      split_index = int(train_split*len(images))\n",
        "      train_images = images[:split_index]\n",
        "      val_images = images[split_index:]\n",
        "\n",
        "    #Split images if number of train and val is specified\n",
        "    else:\n",
        "      get_images = random.sample(images, train_num + val_num)\n",
        "      train_images = get_images[:train_num]\n",
        "      val_images = get_images[train_num:]\n",
        "\n",
        "    #Replacing The File\n",
        "    for image in train_images:\n",
        "        src = os.path.join(category_dir, image)\n",
        "        dest = os.path.join(train_dir, category, image)\n",
        "        os.rename(src, dest)\n",
        "\n",
        "    for image in val_images:\n",
        "        src = os.path.join(category_dir, image)\n",
        "        dest = os.path.join(val_dir, category, image)\n",
        "        os.rename(src, dest)\n",
        "\n",
        "  return train_dir, val_dir\n",
        "\n",
        "\n"
      ],
      "metadata": {
        "id": "h_MoTBMgS4Za"
      },
      "execution_count": null,
      "outputs": []
    },
    {
      "cell_type": "code",
      "source": [
        "train_dir, val_dir = split_data(train_split = .8)"
      ],
      "metadata": {
        "id": "pvsCX-d5dEJW"
      },
      "execution_count": null,
      "outputs": []
    },
    {
      "cell_type": "markdown",
      "source": [
        "# Tensorflow Hub Model"
      ],
      "metadata": {
        "id": "PIT0G8JMoTz8"
      }
    },
    {
      "cell_type": "code",
      "source": [
        "transfer_model = ('https://www.kaggle.com/models/google/mobilenet-v2/TensorFlow2/035-128-feature-vector/2', 128)"
      ],
      "metadata": {
        "id": "cLzPFfpwoC8V"
      },
      "execution_count": null,
      "outputs": []
    },
    {
      "cell_type": "markdown",
      "source": [
        "# Generator"
      ],
      "metadata": {
        "id": "NEFYsapkoa3H"
      }
    },
    {
      "cell_type": "code",
      "source": [
        "def image_generator(train_dir = train_dir, val_dir = val_dir, transfer_model = None,\n",
        "                    batch_size = 32):\n",
        "  module_handle, shape = transfer_model\n",
        "  training_datagen = ImageDataGenerator(\n",
        "      rescale = 1./255,\n",
        "      horizontal_flip = True,\n",
        "      zoom_range = .2,\n",
        "      shear_range = .2,\n",
        "      fill_mode = 'nearest'\n",
        "  )\n",
        "  train_generator = training_datagen.flow_from_directory(\n",
        "      directory = train_dir,\n",
        "      target_size = (shape, shape),\n",
        "      batch_size = batch_size,\n",
        "      class_mode = 'sparse'\n",
        "  )\n",
        "\n",
        "  validation_datagen = ImageDataGenerator(\n",
        "      rescale = 1./255\n",
        "  )\n",
        "  val_generator = validation_datagen.flow_from_directory(\n",
        "      directory = val_dir,\n",
        "      target_size = (shape, shape),\n",
        "      batch_size = batch_size,\n",
        "      class_mode = 'sparse'\n",
        "  )\n",
        "\n",
        "  return train_generator, val_generator"
      ],
      "metadata": {
        "id": "9WZWqHyToWV_"
      },
      "execution_count": null,
      "outputs": []
    },
    {
      "cell_type": "markdown",
      "source": [
        "# Define Model"
      ],
      "metadata": {
        "id": "EKwUHcuMiojC"
      }
    },
    {
      "cell_type": "code",
      "source": [
        "def create_model(transfer_model = None):\n",
        "  module_handle, shape = transfer_model\n",
        "  image_size = (shape, shape)\n",
        "  feature_extractor = hub.KerasLayer(module_handle, input_shape = image_size + (3,))\n",
        "\n",
        "  #For Testing, might as well set trainable to false\n",
        "  model = tf.keras.Sequential([\n",
        "      feature_extractor,\n",
        "      tf.keras.layers.Dropout(.4),\n",
        "      tf.keras.layers.Dense(10, activation = 'softmax')\n",
        "  ])\n",
        "\n",
        "  optimizer = tf.keras.optimizers.SGD(learning_rate = .002, momentum = .9)\n",
        "  model.compile(optimizer = optimizer,\n",
        "                loss = 'sparse_categorical_crossentropy',\n",
        "                metrics = ['accuracy'])\n",
        "  return model"
      ],
      "metadata": {
        "id": "5VLfVziqiquA"
      },
      "execution_count": null,
      "outputs": []
    },
    {
      "cell_type": "markdown",
      "source": [
        "# Train Model"
      ],
      "metadata": {
        "id": "uAfNu8B_k-Iy"
      }
    },
    {
      "cell_type": "code",
      "source": [
        "train_generator, val_generator = image_generator(transfer_model = transfer_model)\n",
        "model = create_model(transfer_model = transfer_model)"
      ],
      "metadata": {
        "colab": {
          "base_uri": "https://localhost:8080/"
        },
        "id": "aV041pcJ4HIi",
        "outputId": "eb86abb9-f974-4d04-f211-9809dc8172d5"
      },
      "execution_count": null,
      "outputs": [
        {
          "output_type": "stream",
          "name": "stdout",
          "text": [
            "Found 1091 images belonging to 10 classes.\n",
            "Found 280 images belonging to 10 classes.\n"
          ]
        }
      ]
    },
    {
      "cell_type": "code",
      "source": [
        "EarlyStop = tf.keras.callbacks.EarlyStopping(monitor = 'val_loss', patience = 5, mode = 'min',\n",
        "                                             restore_best_weights = True, start_from_epoch = 10,\n",
        "                                             min_delta = .001)\n",
        "ReduceLR = tf.keras.callbacks.ReduceLROnPlateau(monitor = 'val_loss', mode = 'min', min_delta = .001)\n",
        "\n",
        "model.fit(train_generator, epochs = 50, callbacks = [ReduceLR, EarlyStop],\n",
        "          validation_data = val_generator)"
      ],
      "metadata": {
        "colab": {
          "base_uri": "https://localhost:8080/"
        },
        "collapsed": true,
        "id": "egxCwaKQ4hzU",
        "outputId": "20466fad-3a80-4942-fc78-b4cd684995eb"
      },
      "execution_count": null,
      "outputs": [
        {
          "output_type": "stream",
          "name": "stdout",
          "text": [
            "Epoch 1/50\n",
            "35/35 [==============================] - 19s 335ms/step - loss: 1.9468 - accuracy: 0.3584 - val_loss: 1.1186 - val_accuracy: 0.6536 - lr: 0.0020\n",
            "Epoch 2/50\n",
            "35/35 [==============================] - 9s 264ms/step - loss: 0.8984 - accuracy: 0.7140 - val_loss: 0.5689 - val_accuracy: 0.8821 - lr: 0.0020\n",
            "Epoch 3/50\n",
            "35/35 [==============================] - 9s 271ms/step - loss: 0.5582 - accuracy: 0.8460 - val_loss: 0.3731 - val_accuracy: 0.9464 - lr: 0.0020\n",
            "Epoch 4/50\n",
            "35/35 [==============================] - 9s 256ms/step - loss: 0.4782 - accuracy: 0.8671 - val_loss: 0.3159 - val_accuracy: 0.9500 - lr: 0.0020\n",
            "Epoch 5/50\n",
            "35/35 [==============================] - 9s 262ms/step - loss: 0.3622 - accuracy: 0.9065 - val_loss: 0.2665 - val_accuracy: 0.9571 - lr: 0.0020\n",
            "Epoch 6/50\n",
            "35/35 [==============================] - 9s 248ms/step - loss: 0.3295 - accuracy: 0.9157 - val_loss: 0.2407 - val_accuracy: 0.9571 - lr: 0.0020\n",
            "Epoch 7/50\n",
            "35/35 [==============================] - 10s 283ms/step - loss: 0.2737 - accuracy: 0.9322 - val_loss: 0.1897 - val_accuracy: 0.9714 - lr: 0.0020\n",
            "Epoch 8/50\n",
            "35/35 [==============================] - 9s 260ms/step - loss: 0.2604 - accuracy: 0.9331 - val_loss: 0.1739 - val_accuracy: 0.9714 - lr: 0.0020\n",
            "Epoch 9/50\n",
            "35/35 [==============================] - 8s 225ms/step - loss: 0.2489 - accuracy: 0.9413 - val_loss: 0.1614 - val_accuracy: 0.9714 - lr: 0.0020\n",
            "Epoch 10/50\n",
            "35/35 [==============================] - 9s 266ms/step - loss: 0.2252 - accuracy: 0.9478 - val_loss: 0.1478 - val_accuracy: 0.9786 - lr: 0.0020\n",
            "Epoch 11/50\n",
            "35/35 [==============================] - 9s 263ms/step - loss: 0.2047 - accuracy: 0.9588 - val_loss: 0.1375 - val_accuracy: 0.9750 - lr: 0.0020\n",
            "Epoch 12/50\n",
            "35/35 [==============================] - 8s 221ms/step - loss: 0.1939 - accuracy: 0.9523 - val_loss: 0.1288 - val_accuracy: 0.9857 - lr: 0.0020\n",
            "Epoch 13/50\n",
            "35/35 [==============================] - 9s 257ms/step - loss: 0.1823 - accuracy: 0.9560 - val_loss: 0.1246 - val_accuracy: 0.9857 - lr: 0.0020\n",
            "Epoch 14/50\n",
            "35/35 [==============================] - 10s 284ms/step - loss: 0.1664 - accuracy: 0.9633 - val_loss: 0.1175 - val_accuracy: 0.9821 - lr: 0.0020\n",
            "Epoch 15/50\n",
            "35/35 [==============================] - 8s 240ms/step - loss: 0.1556 - accuracy: 0.9615 - val_loss: 0.1176 - val_accuracy: 0.9821 - lr: 0.0020\n",
            "Epoch 16/50\n",
            "35/35 [==============================] - 8s 226ms/step - loss: 0.1654 - accuracy: 0.9542 - val_loss: 0.1116 - val_accuracy: 0.9821 - lr: 0.0020\n",
            "Epoch 17/50\n",
            "35/35 [==============================] - 10s 284ms/step - loss: 0.1530 - accuracy: 0.9716 - val_loss: 0.0962 - val_accuracy: 0.9893 - lr: 0.0020\n",
            "Epoch 18/50\n",
            "35/35 [==============================] - 9s 257ms/step - loss: 0.1417 - accuracy: 0.9661 - val_loss: 0.1031 - val_accuracy: 0.9821 - lr: 0.0020\n",
            "Epoch 19/50\n",
            "35/35 [==============================] - 8s 226ms/step - loss: 0.1385 - accuracy: 0.9707 - val_loss: 0.0931 - val_accuracy: 0.9893 - lr: 0.0020\n",
            "Epoch 20/50\n",
            "35/35 [==============================] - 9s 244ms/step - loss: 0.1367 - accuracy: 0.9652 - val_loss: 0.0873 - val_accuracy: 0.9857 - lr: 0.0020\n",
            "Epoch 21/50\n",
            "35/35 [==============================] - 9s 264ms/step - loss: 0.1282 - accuracy: 0.9679 - val_loss: 0.0851 - val_accuracy: 0.9857 - lr: 0.0020\n",
            "Epoch 22/50\n",
            "35/35 [==============================] - 9s 260ms/step - loss: 0.1282 - accuracy: 0.9688 - val_loss: 0.0901 - val_accuracy: 0.9857 - lr: 0.0020\n",
            "Epoch 23/50\n",
            "35/35 [==============================] - 8s 219ms/step - loss: 0.1322 - accuracy: 0.9707 - val_loss: 0.0803 - val_accuracy: 0.9857 - lr: 0.0020\n",
            "Epoch 24/50\n",
            "35/35 [==============================] - 10s 283ms/step - loss: 0.1187 - accuracy: 0.9734 - val_loss: 0.0794 - val_accuracy: 0.9857 - lr: 0.0020\n",
            "Epoch 25/50\n",
            "35/35 [==============================] - 9s 258ms/step - loss: 0.1102 - accuracy: 0.9771 - val_loss: 0.0780 - val_accuracy: 0.9857 - lr: 0.0020\n",
            "Epoch 26/50\n",
            "35/35 [==============================] - 8s 228ms/step - loss: 0.1292 - accuracy: 0.9725 - val_loss: 0.0771 - val_accuracy: 0.9857 - lr: 0.0020\n",
            "Epoch 27/50\n",
            "35/35 [==============================] - 9s 263ms/step - loss: 0.1126 - accuracy: 0.9780 - val_loss: 0.0735 - val_accuracy: 0.9821 - lr: 0.0020\n",
            "Epoch 28/50\n",
            "35/35 [==============================] - 9s 262ms/step - loss: 0.1147 - accuracy: 0.9734 - val_loss: 0.0708 - val_accuracy: 0.9857 - lr: 0.0020\n",
            "Epoch 29/50\n",
            "35/35 [==============================] - 8s 219ms/step - loss: 0.1003 - accuracy: 0.9762 - val_loss: 0.0711 - val_accuracy: 0.9857 - lr: 0.0020\n",
            "Epoch 30/50\n",
            "35/35 [==============================] - 10s 283ms/step - loss: 0.0990 - accuracy: 0.9780 - val_loss: 0.0696 - val_accuracy: 0.9857 - lr: 0.0020\n",
            "Epoch 31/50\n",
            "35/35 [==============================] - 10s 280ms/step - loss: 0.0923 - accuracy: 0.9817 - val_loss: 0.0699 - val_accuracy: 0.9857 - lr: 0.0020\n",
            "Epoch 32/50\n",
            "35/35 [==============================] - 12s 360ms/step - loss: 0.1006 - accuracy: 0.9808 - val_loss: 0.0676 - val_accuracy: 0.9857 - lr: 0.0020\n",
            "Epoch 33/50\n",
            "35/35 [==============================] - 12s 341ms/step - loss: 0.1019 - accuracy: 0.9789 - val_loss: 0.0642 - val_accuracy: 0.9821 - lr: 0.0020\n",
            "Epoch 34/50\n",
            "35/35 [==============================] - 8s 241ms/step - loss: 0.0911 - accuracy: 0.9844 - val_loss: 0.0626 - val_accuracy: 0.9857 - lr: 0.0020\n",
            "Epoch 35/50\n",
            "35/35 [==============================] - 10s 282ms/step - loss: 0.0962 - accuracy: 0.9780 - val_loss: 0.0670 - val_accuracy: 0.9857 - lr: 0.0020\n",
            "Epoch 36/50\n",
            "35/35 [==============================] - 10s 272ms/step - loss: 0.1022 - accuracy: 0.9771 - val_loss: 0.0594 - val_accuracy: 0.9893 - lr: 0.0020\n",
            "Epoch 37/50\n",
            "35/35 [==============================] - 8s 223ms/step - loss: 0.0946 - accuracy: 0.9789 - val_loss: 0.0740 - val_accuracy: 0.9821 - lr: 0.0020\n",
            "Epoch 38/50\n",
            "35/35 [==============================] - 9s 263ms/step - loss: 0.0920 - accuracy: 0.9817 - val_loss: 0.0626 - val_accuracy: 0.9857 - lr: 0.0020\n",
            "Epoch 39/50\n",
            "35/35 [==============================] - 9s 258ms/step - loss: 0.0847 - accuracy: 0.9798 - val_loss: 0.0564 - val_accuracy: 0.9857 - lr: 0.0020\n",
            "Epoch 40/50\n",
            "35/35 [==============================] - 8s 225ms/step - loss: 0.0815 - accuracy: 0.9853 - val_loss: 0.0549 - val_accuracy: 0.9857 - lr: 0.0020\n",
            "Epoch 41/50\n",
            "35/35 [==============================] - 10s 275ms/step - loss: 0.0945 - accuracy: 0.9789 - val_loss: 0.0583 - val_accuracy: 0.9821 - lr: 0.0020\n",
            "Epoch 42/50\n",
            "35/35 [==============================] - 9s 256ms/step - loss: 0.0874 - accuracy: 0.9753 - val_loss: 0.0584 - val_accuracy: 0.9857 - lr: 0.0020\n",
            "Epoch 43/50\n",
            "35/35 [==============================] - 10s 294ms/step - loss: 0.0852 - accuracy: 0.9780 - val_loss: 0.0540 - val_accuracy: 0.9857 - lr: 0.0020\n",
            "Epoch 44/50\n",
            "35/35 [==============================] - 8s 241ms/step - loss: 0.0858 - accuracy: 0.9798 - val_loss: 0.0542 - val_accuracy: 0.9857 - lr: 0.0020\n",
            "Epoch 45/50\n",
            "35/35 [==============================] - 9s 262ms/step - loss: 0.0788 - accuracy: 0.9844 - val_loss: 0.0516 - val_accuracy: 0.9893 - lr: 0.0020\n",
            "Epoch 46/50\n",
            "35/35 [==============================] - 10s 280ms/step - loss: 0.0713 - accuracy: 0.9844 - val_loss: 0.0514 - val_accuracy: 0.9893 - lr: 0.0020\n",
            "Epoch 47/50\n",
            "35/35 [==============================] - 8s 224ms/step - loss: 0.0787 - accuracy: 0.9808 - val_loss: 0.0524 - val_accuracy: 0.9857 - lr: 0.0020\n",
            "Epoch 48/50\n",
            "35/35 [==============================] - 9s 263ms/step - loss: 0.0678 - accuracy: 0.9872 - val_loss: 0.0511 - val_accuracy: 0.9893 - lr: 0.0020\n",
            "Epoch 49/50\n",
            "35/35 [==============================] - 10s 276ms/step - loss: 0.0740 - accuracy: 0.9872 - val_loss: 0.0577 - val_accuracy: 0.9821 - lr: 0.0020\n",
            "Epoch 50/50\n",
            "35/35 [==============================] - 8s 240ms/step - loss: 0.0690 - accuracy: 0.9881 - val_loss: 0.0504 - val_accuracy: 0.9893 - lr: 0.0020\n"
          ]
        },
        {
          "output_type": "execute_result",
          "data": {
            "text/plain": [
              "<keras.src.callbacks.History at 0x7aa3eb960670>"
            ]
          },
          "metadata": {},
          "execution_count": 15
        }
      ]
    },
    {
      "cell_type": "markdown",
      "source": [
        "# Save Model"
      ],
      "metadata": {
        "id": "OcNnMOBKpKj-"
      }
    },
    {
      "cell_type": "code",
      "source": [
        "model_path = './model/skincolor_mobilev2.h5'\n",
        "model.save(model_path)"
      ],
      "metadata": {
        "colab": {
          "base_uri": "https://localhost:8080/"
        },
        "id": "sElv0g5MpIMM",
        "outputId": "9df11871-8ae1-45a5-bd09-ffc5f3e3945b"
      },
      "execution_count": null,
      "outputs": [
        {
          "output_type": "stream",
          "name": "stderr",
          "text": [
            "/usr/local/lib/python3.10/dist-packages/keras/src/engine/training.py:3103: UserWarning: You are saving your model as an HDF5 file via `model.save()`. This file format is considered legacy. We recommend using instead the native Keras format, e.g. `model.save('my_model.keras')`.\n",
            "  saving_api.save_model(\n"
          ]
        }
      ]
    },
    {
      "cell_type": "code",
      "source": [
        "from google.colab import files\n",
        "files.download(model_path)"
      ],
      "metadata": {
        "colab": {
          "base_uri": "https://localhost:8080/",
          "height": 17
        },
        "id": "O1RfKvtcogPp",
        "outputId": "f9a24737-f56b-45c4-f170-2a5df57f763d"
      },
      "execution_count": null,
      "outputs": [
        {
          "output_type": "display_data",
          "data": {
            "text/plain": [
              "<IPython.core.display.Javascript object>"
            ],
            "application/javascript": [
              "\n",
              "    async function download(id, filename, size) {\n",
              "      if (!google.colab.kernel.accessAllowed) {\n",
              "        return;\n",
              "      }\n",
              "      const div = document.createElement('div');\n",
              "      const label = document.createElement('label');\n",
              "      label.textContent = `Downloading \"${filename}\": `;\n",
              "      div.appendChild(label);\n",
              "      const progress = document.createElement('progress');\n",
              "      progress.max = size;\n",
              "      div.appendChild(progress);\n",
              "      document.body.appendChild(div);\n",
              "\n",
              "      const buffers = [];\n",
              "      let downloaded = 0;\n",
              "\n",
              "      const channel = await google.colab.kernel.comms.open(id);\n",
              "      // Send a message to notify the kernel that we're ready.\n",
              "      channel.send({})\n",
              "\n",
              "      for await (const message of channel.messages) {\n",
              "        // Send a message to notify the kernel that we're ready.\n",
              "        channel.send({})\n",
              "        if (message.buffers) {\n",
              "          for (const buffer of message.buffers) {\n",
              "            buffers.push(buffer);\n",
              "            downloaded += buffer.byteLength;\n",
              "            progress.value = downloaded;\n",
              "          }\n",
              "        }\n",
              "      }\n",
              "      const blob = new Blob(buffers, {type: 'application/binary'});\n",
              "      const a = document.createElement('a');\n",
              "      a.href = window.URL.createObjectURL(blob);\n",
              "      a.download = filename;\n",
              "      div.appendChild(a);\n",
              "      a.click();\n",
              "      div.remove();\n",
              "    }\n",
              "  "
            ]
          },
          "metadata": {}
        },
        {
          "output_type": "display_data",
          "data": {
            "text/plain": [
              "<IPython.core.display.Javascript object>"
            ],
            "application/javascript": [
              "download(\"download_edc75dd2-9210-44c3-925d-060d7f31ae11\", \"skincolor_mobilev2.h5\", 1999696)"
            ]
          },
          "metadata": {}
        }
      ]
    },
    {
      "cell_type": "markdown",
      "source": [
        "# Test Upload"
      ],
      "metadata": {
        "id": "WWKJ3e6wrTic"
      }
    },
    {
      "cell_type": "code",
      "source": [
        "model_up = tf.keras.models.load_model(\n",
        "    './skincolor_mobilev2.h5', custom_objects={'KerasLayer': hub.KerasLayer},\n",
        ")"
      ],
      "metadata": {
        "id": "aFT5IOzrodrz"
      },
      "execution_count": null,
      "outputs": []
    },
    {
      "cell_type": "markdown",
      "source": [
        "# Confusion Matrix"
      ],
      "metadata": {
        "id": "P25E7vysr6Ic"
      }
    },
    {
      "cell_type": "code",
      "source": [
        "from sklearn.metrics import confusion_matrix"
      ],
      "metadata": {
        "id": "BLIJo8n7F9gq"
      },
      "execution_count": null,
      "outputs": []
    },
    {
      "cell_type": "code",
      "source": [
        "def make_cm( model = model):\n",
        "  predicted_classes = []\n",
        "  true_classes = []\n",
        "  val_generator.reset()\n",
        "\n",
        "  for batch_index in range(len(val_generator)):\n",
        "    images, labels = next(val_generator)\n",
        "    predictions =np.argmax(model.predict(images), axis = 1)\n",
        "\n",
        "    predicted_classes.extend(predictions)\n",
        "    true_classes.extend(labels)\n",
        "\n",
        "  predicted_classes = np.array(predicted_classes)\n",
        "  true_classes = np.array(true_classes)\n",
        "  cm = confusion_matrix(true_classes, predicted_classes)\n",
        "  cm = np.around(cm.astype('float') / cm.sum(axis=1)[:, np.newaxis], decimals=2)\n",
        "  class_labels = list(val_generator.class_indices.keys())\n",
        "\n",
        "  #Plot Confusion Matrix\n",
        "  plt.figure(figsize = (10,10))\n",
        "  sns.heatmap(cm, annot = True, cmap = 'YlGnBu',\n",
        "           xticklabels = class_labels, yticklabels = class_labels )\n",
        "  plt.xlabel('Predicted Labels')\n",
        "  plt.ylabel('True Labels')\n",
        "  plt.title('Confusion matrix')\n",
        "  plt.show()"
      ],
      "metadata": {
        "id": "QybZSRCmEGM2"
      },
      "execution_count": null,
      "outputs": []
    },
    {
      "cell_type": "code",
      "source": [
        "make_cm()"
      ],
      "metadata": {
        "colab": {
          "base_uri": "https://localhost:8080/",
          "height": 1000
        },
        "id": "nCeTLwzesYlS",
        "outputId": "253f391c-5e87-4a4a-aa46-2dccafe93e16"
      },
      "execution_count": null,
      "outputs": [
        {
          "output_type": "stream",
          "name": "stdout",
          "text": [
            "1/1 [==============================] - 0s 266ms/step\n",
            "1/1 [==============================] - 0s 27ms/step\n",
            "1/1 [==============================] - 0s 25ms/step\n",
            "1/1 [==============================] - 0s 27ms/step\n",
            "1/1 [==============================] - 0s 26ms/step\n",
            "1/1 [==============================] - 1s 1s/step\n",
            "1/1 [==============================] - 0s 28ms/step\n",
            "1/1 [==============================] - 0s 24ms/step\n",
            "1/1 [==============================] - 0s 24ms/step\n"
          ]
        },
        {
          "output_type": "display_data",
          "data": {
            "text/plain": [
              "<Figure size 1000x1000 with 2 Axes>"
            ],
            "image/png": "[encoded data removed]"
          },
          "metadata": {}
        }
      ]
    },
    {
      "cell_type": "code",
      "source": [
        "make_cm(model_up)"
      ],
      "metadata": {
        "colab": {
          "base_uri": "https://localhost:8080/",
          "height": 1000
        },
        "id": "-LJw6LdOs9gE",
        "outputId": "1816a769-fccc-4f4d-99c9-5c07505a767a"
      },
      "execution_count": null,
      "outputs": [
        {
          "output_type": "stream",
          "name": "stdout",
          "text": [
            "1/1 [==============================] - 1s 1s/step\n",
            "1/1 [==============================] - 1s 547ms/step\n",
            "1/1 [==============================] - 0s 43ms/step\n",
            "1/1 [==============================] - 0s 46ms/step\n",
            "1/1 [==============================] - 0s 46ms/step\n",
            "1/1 [==============================] - 0s 41ms/step\n",
            "1/1 [==============================] - 0s 40ms/step\n",
            "1/1 [==============================] - 0s 50ms/step\n",
            "1/1 [==============================] - 1s 1s/step\n"
          ]
        },
        {
          "output_type": "display_data",
          "data": {
            "text/plain": [
              "<Figure size 1000x1000 with 2 Axes>"
            ],
            "image/png": "[encoded data removed]"
          },
          "metadata": {}
        }
      ]
    },
    {
      "cell_type": "code",
      "source": [],
      "metadata": {
        "id": "_GMBNMXGreuZ"
      },
      "execution_count": null,
      "outputs": []
    }
  ]
}