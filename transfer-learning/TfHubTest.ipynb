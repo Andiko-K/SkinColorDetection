{
  "nbformat": 4,
  "nbformat_minor": 0,
  "metadata": {
    "colab": {
      "provenance": [],
      "gpuType": "T4",
      "include_colab_link": true
    },
    "kernelspec": {
      "name": "python3",
      "display_name": "Python 3"
    },
    "language_info": {
      "name": "python"
    },
    "accelerator": "GPU"
  },
  "cells": [
    {
      "cell_type": "markdown",
      "metadata": {
        "id": "view-in-github",
        "colab_type": "text"
      },
      "source": [
        "<a href=\"https://colab.research.google.com/github/Andiko-K/SkinColorDetection/blob/main/transfer-learning/TfHubTest.ipynb\" target=\"_parent\"><img src=\"https://colab.research.google.com/assets/colab-badge.svg\" alt=\"Open In Colab\"/></a>"
      ]
    },
    {
      "cell_type": "code",
      "execution_count": null,
      "metadata": {
        "id": "FCr6vQSGO01R"
      },
      "outputs": [],
      "source": [
        "import urllib.request\n",
        "import zipfile\n",
        "import os, shutil\n",
        "\n",
        "import tensorflow as tf\n",
        "from tensorflow.keras.preprocessing.image import ImageDataGenerator\n",
        "import tensorflow_hub as hub\n",
        "\n",
        "import random\n",
        "import numpy as np\n",
        "from matplotlib import pyplot as plt\n",
        "import seaborn as sns"
      ]
    },
    {
      "cell_type": "markdown",
      "source": [
        "# Installing Dataset"
      ],
      "metadata": {
        "id": "w89xYYtzP-4S"
      }
    },
    {
      "cell_type": "code",
      "source": [
        "!gdown --id 1Q6Li-WpLd277mByjoDRUhjCCiTVhcYxT"
      ],
      "metadata": {
        "colab": {
          "base_uri": "https://localhost:8080/"
        },
        "id": "IPRCi2ckPaAf",
        "outputId": "b2862ef2-9dfd-4d6c-a792-fa666c87c318"
      },
      "execution_count": null,
      "outputs": [
        {
          "output_type": "stream",
          "name": "stdout",
          "text": [
            "/usr/local/lib/python3.10/dist-packages/gdown/__main__.py:132: FutureWarning: Option `--id` was deprecated in version 4.3.1 and will be removed in 5.0. You don't need to pass it anymore to use a file ID.\n",
            "  warnings.warn(\n",
            "Downloading...\n",
            "From (original): https://drive.google.com/uc?id=1Q6Li-WpLd277mByjoDRUhjCCiTVhcYxT\n",
            "From (redirected): https://drive.google.com/uc?id=1Q6Li-WpLd277mByjoDRUhjCCiTVhcYxT&confirm=t&uuid=4bad2994-f9a9-4a36-a63c-6c4a0ab5fca4\n",
            "To: /content/mst_dataset.zip\n",
            "100% 313M/313M [00:15<00:00, 20.1MB/s]\n"
          ]
        }
      ]
    },
    {
      "cell_type": "markdown",
      "source": [
        "# Data Exploration"
      ],
      "metadata": {
        "id": "gHMrgcUaZalu"
      }
    },
    {
      "cell_type": "code",
      "source": [
        "local_file = 'mst_dataset.zip'\n",
        "destination = './mst_datasets/'\n",
        "\n",
        "zip_ref = zipfile.ZipFile(local_file, 'r')\n",
        "zip_ref.extractall(destination)\n",
        "zip_ref.close()"
      ],
      "metadata": {
        "id": "amgxDZUFQAnj"
      },
      "execution_count": null,
      "outputs": []
    },
    {
      "cell_type": "code",
      "source": [
        "original_dir = './mst_datasets'\n",
        "number_dir = sorted(os.listdir(original_dir))\n",
        "num_file = []\n",
        "for d in number_dir:\n",
        "  sub_dir = os.path.join(original_dir, d)\n",
        "  num_file.append(len(os.listdir(sub_dir)))"
      ],
      "metadata": {
        "id": "p6N7SPvhTbEL"
      },
      "execution_count": null,
      "outputs": []
    },
    {
      "cell_type": "code",
      "source": [
        "plt.figure(figsize = (8, 5))\n",
        "plt.bar(number_dir, num_file)\n",
        "plt.title('Number of Image Sample')"
      ],
      "metadata": {
        "colab": {
          "base_uri": "https://localhost:8080/",
          "height": 485
        },
        "id": "6iPhXLdqZdKn",
        "outputId": "5fced299-3d1d-40cb-9f97-d0178c75334d"
      },
      "execution_count": null,
      "outputs": [
        {
          "output_type": "execute_result",
          "data": {
            "text/plain": [
              "Text(0.5, 1.0, 'Number of Image Sample')"
            ]
          },
          "metadata": {},
          "execution_count": 5
        },
        {
          "output_type": "display_data",
          "data": {
            "text/plain": [
              "<Figure size 800x500 with 1 Axes>"
            ],
            "image/png": "[encoded data removed]"
          },
          "metadata": {}
        }
      ]
    },
    {
      "cell_type": "markdown",
      "source": [
        "Reccomendation: SMOTE for Tone 07 (?)"
      ],
      "metadata": {
        "id": "Cd3dfALnzB1m"
      }
    },
    {
      "cell_type": "markdown",
      "source": [
        "# Data Splitting"
      ],
      "metadata": {
        "id": "QepJRgU2aWPE"
      }
    },
    {
      "cell_type": "code",
      "source": [
        "original_dir = './mst_datasets'\n",
        "def split_data(original_dir = original_dir, train_split = None,\n",
        "               train_num = None, val_num = None):\n",
        "  train_dir = './datasets/train/'\n",
        "  val_dir = './datasets/validation'\n",
        "\n",
        "  os.makedirs(train_dir, exist_ok = True)\n",
        "  os.makedirs(val_dir, exist_ok = True)\n",
        "\n",
        "  for category in os.listdir(original_dir):\n",
        "    train_cat_dir = os.path.join(train_dir, category)\n",
        "    val_cat_dir = os.path.join(val_dir, category)\n",
        "\n",
        "    os.makedirs(train_cat_dir, exist_ok = True)\n",
        "    os.makedirs(val_cat_dir, exist_ok = True)\n",
        "\n",
        "    #Get Images List and Shuffle\n",
        "    category_dir = os.path.join(original_dir, category)\n",
        "    images = os.listdir(category_dir)\n",
        "    random.shuffle(images)\n",
        "\n",
        "    #Split images if train_split is specified\n",
        "    if train_split is not None:\n",
        "      split_index = int(train_split*len(images))\n",
        "      train_images = images[:split_index]\n",
        "      val_images = images[split_index:]\n",
        "\n",
        "    #Split images if number of train and val is specified\n",
        "    else:\n",
        "      get_images = random.sample(images, train_num + val_num)\n",
        "      train_images = get_images[:train_num]\n",
        "      val_images = get_images[train_num:]\n",
        "\n",
        "    #Replacing The File\n",
        "    for image in train_images:\n",
        "        src = os.path.join(category_dir, image)\n",
        "        dest = os.path.join(train_dir, category, image)\n",
        "        os.rename(src, dest)\n",
        "\n",
        "    for image in val_images:\n",
        "        src = os.path.join(category_dir, image)\n",
        "        dest = os.path.join(val_dir, category, image)\n",
        "        os.rename(src, dest)\n",
        "\n",
        "  return train_dir, val_dir\n",
        "\n",
        "\n"
      ],
      "metadata": {
        "id": "h_MoTBMgS4Za"
      },
      "execution_count": null,
      "outputs": []
    },
    {
      "cell_type": "code",
      "source": [
        "train_dir, val_dir = split_data(train_num = 50, val_num = 10)"
      ],
      "metadata": {
        "id": "pvsCX-d5dEJW"
      },
      "execution_count": null,
      "outputs": []
    },
    {
      "cell_type": "markdown",
      "source": [
        "# List Tensorflow Hub Model for Training Purposes"
      ],
      "metadata": {
        "id": "fhdaQCQpeIIL"
      }
    },
    {
      "cell_type": "code",
      "source": [
        "model_hub = {\n",
        "    'mobilev3large': ('https://www.kaggle.com/models/google/mobilenet-v3/TensorFlow2/large-075-224-feature-vector/1', 224),\n",
        "    'mobilev3small': ('https://www.kaggle.com/models/google/mobilenet-v3/TensorFlow2/small-075-224-feature-vector/1', 224),\n",
        "    'mobilev2': ('https://www.kaggle.com/models/google/mobilenet-v2/TensorFlow2/035-128-feature-vector/2', 128),\n",
        "    'effnetv2': (\"https://www.kaggle.com/models/google/efficientnet-v2/TensorFlow2/imagenet1k-b0-feature-vector/2\", 224),\n",
        "    'inceptionv3': (\"https://www.kaggle.com/models/google/inception-v3/TensorFlow2/feature-vector/2\", 299),\n",
        "    'resnetv2': (\"https://www.kaggle.com/models/google/resnet-v2/TensorFlow2/101-classification/2\", 224)\n",
        "}"
      ],
      "metadata": {
        "id": "cA_H0dxMeDHs"
      },
      "execution_count": null,
      "outputs": []
    },
    {
      "cell_type": "markdown",
      "source": [
        "# Define Generator"
      ],
      "metadata": {
        "id": "L2gpzppyhiA8"
      }
    },
    {
      "cell_type": "code",
      "source": [
        "def image_generator(train_dir = train_dir, val_dir = val_dir, transfer_model = None,\n",
        "                    batch_size = 32):\n",
        "  module_handle, shape = transfer_model\n",
        "  training_datagen = ImageDataGenerator(\n",
        "      rescale = 1./255,\n",
        "      horizontal_flip = True,\n",
        "      zoom_range = .2,\n",
        "      shear_range = .2,\n",
        "      fill_mode = 'nearest'\n",
        "  )\n",
        "  train_generator = training_datagen.flow_from_directory(\n",
        "      directory = train_dir,\n",
        "      target_size = (shape, shape),\n",
        "      batch_size = batch_size,\n",
        "      class_mode = 'sparse'\n",
        "  )\n",
        "\n",
        "  validation_datagen = ImageDataGenerator(\n",
        "      rescale = 1./255\n",
        "  )\n",
        "  val_generator = validation_datagen.flow_from_directory(\n",
        "      directory = val_dir,\n",
        "      target_size = (shape, shape),\n",
        "      batch_size = batch_size,\n",
        "      class_mode = 'sparse'\n",
        "  )\n",
        "\n",
        "  return train_generator, val_generator"
      ],
      "metadata": {
        "id": "jAEdC5MvhpRu"
      },
      "execution_count": null,
      "outputs": []
    },
    {
      "cell_type": "markdown",
      "source": [
        "# Define Model"
      ],
      "metadata": {
        "id": "EKwUHcuMiojC"
      }
    },
    {
      "cell_type": "code",
      "source": [
        "def create_model(transfer_model = None):\n",
        "  module_handle, shape = transfer_model\n",
        "  image_size = (shape, shape)\n",
        "  feature_extractor = hub.KerasLayer(module_handle, input_shape = image_size + (3,))\n",
        "\n",
        "  #For Testing, might as well set trainable to false\n",
        "  model = tf.keras.Sequential([\n",
        "      feature_extractor,\n",
        "      tf.keras.layers.Dense(10, activation = 'softmax')\n",
        "  ])\n",
        "\n",
        "  optimizer = tf.keras.optimizers.SGD(learning_rate = .002, momentum = .9)\n",
        "  model.compile(optimizer = optimizer,\n",
        "                loss = 'sparse_categorical_crossentropy',\n",
        "                metrics = ['accuracy'])\n",
        "  return model"
      ],
      "metadata": {
        "id": "5VLfVziqiquA"
      },
      "execution_count": null,
      "outputs": []
    },
    {
      "cell_type": "markdown",
      "source": [
        "# Train Model"
      ],
      "metadata": {
        "id": "uAfNu8B_k-Iy"
      }
    },
    {
      "cell_type": "code",
      "source": [
        "loss_l = []\n",
        "acc_l = []\n",
        "size_l = []\n",
        "\n",
        "for transfer_model in model_hub.keys():\n",
        "  train_generator, val_generator = image_generator(transfer_model = model_hub[transfer_model])\n",
        "  model = create_model(transfer_model =model_hub[transfer_model])\n",
        "  EPOCHS = 5\n",
        "  model.fit(train_generator, epochs = EPOCHS,\n",
        "                    validation_data = val_generator, verbose = 0)\n",
        "  print(f'Training for {transfer_model} is complete!')\n",
        "  model.save(f'./model/{transfer_model}.h5')\n",
        "\n",
        "  evaluation = model.evaluate(val_generator)\n",
        "  loss_l.append(evaluation[0]); acc_l.append(evaluation[1])\n",
        "\n",
        "  size = os.path.getsize(f'./model/{transfer_model}.h5')/(10**6)\n",
        "  size_l.append(size)"
      ],
      "metadata": {
        "colab": {
          "base_uri": "https://localhost:8080/"
        },
        "id": "rwUCItHWq0dH",
        "outputId": "431ff8a3-8542-4621-a24f-75aa35da2300"
      },
      "execution_count": null,
      "outputs": [
        {
          "output_type": "stream",
          "name": "stdout",
          "text": [
            "Found 492 images belonging to 10 classes.\n",
            "Found 100 images belonging to 10 classes.\n",
            "Training for mobilev3large is complete!\n",
            "1/4 [======>.......................] - ETA: 0s - loss: 0.7042 - accuracy: 0.9688"
          ]
        },
        {
          "output_type": "stream",
          "name": "stderr",
          "text": [
            "/usr/local/lib/python3.10/dist-packages/keras/src/engine/training.py:3103: UserWarning: You are saving your model as an HDF5 file via `model.save()`. This file format is considered legacy. We recommend using instead the native Keras format, e.g. `model.save('my_model.keras')`.\n",
            "  saving_api.save_model(\n"
          ]
        },
        {
          "output_type": "stream",
          "name": "stdout",
          "text": [
            "4/4 [==============================] - 0s 83ms/step - loss: 0.6901 - accuracy: 0.9400\n",
            "Found 492 images belonging to 10 classes.\n",
            "Found 100 images belonging to 10 classes.\n",
            "Training for mobilev3small is complete!\n",
            "2/4 [==============>...............] - ETA: 0s - loss: 0.6727 - accuracy: 0.9062"
          ]
        },
        {
          "output_type": "stream",
          "name": "stderr",
          "text": [
            "/usr/local/lib/python3.10/dist-packages/keras/src/engine/training.py:3103: UserWarning: You are saving your model as an HDF5 file via `model.save()`. This file format is considered legacy. We recommend using instead the native Keras format, e.g. `model.save('my_model.keras')`.\n",
            "  saving_api.save_model(\n"
          ]
        },
        {
          "output_type": "stream",
          "name": "stdout",
          "text": [
            "4/4 [==============================] - 0s 86ms/step - loss: 0.6382 - accuracy: 0.9200\n",
            "Found 492 images belonging to 10 classes.\n",
            "Found 100 images belonging to 10 classes.\n",
            "Training for mobilev2 is complete!\n",
            "4/4 [==============================] - 0s 72ms/step - loss: 0.4637 - accuracy: 0.9100\n",
            "Found 492 images belonging to 10 classes.\n",
            "Found 100 images belonging to 10 classes.\n"
          ]
        },
        {
          "output_type": "stream",
          "name": "stderr",
          "text": [
            "/usr/local/lib/python3.10/dist-packages/keras/src/engine/training.py:3103: UserWarning: You are saving your model as an HDF5 file via `model.save()`. This file format is considered legacy. We recommend using instead the native Keras format, e.g. `model.save('my_model.keras')`.\n",
            "  saving_api.save_model(\n"
          ]
        },
        {
          "output_type": "stream",
          "name": "stdout",
          "text": [
            "Training for effnetv2 is complete!\n"
          ]
        },
        {
          "output_type": "stream",
          "name": "stderr",
          "text": [
            "/usr/local/lib/python3.10/dist-packages/keras/src/engine/training.py:3103: UserWarning: You are saving your model as an HDF5 file via `model.save()`. This file format is considered legacy. We recommend using instead the native Keras format, e.g. `model.save('my_model.keras')`.\n",
            "  saving_api.save_model(\n"
          ]
        },
        {
          "output_type": "stream",
          "name": "stdout",
          "text": [
            "4/4 [==============================] - 0s 96ms/step - loss: 1.1321 - accuracy: 0.8500\n",
            "Found 492 images belonging to 10 classes.\n",
            "Found 100 images belonging to 10 classes.\n",
            "Training for inceptionv3 is complete!\n"
          ]
        },
        {
          "output_type": "stream",
          "name": "stderr",
          "text": [
            "/usr/local/lib/python3.10/dist-packages/keras/src/engine/training.py:3103: UserWarning: You are saving your model as an HDF5 file via `model.save()`. This file format is considered legacy. We recommend using instead the native Keras format, e.g. `model.save('my_model.keras')`.\n",
            "  saving_api.save_model(\n"
          ]
        },
        {
          "output_type": "stream",
          "name": "stdout",
          "text": [
            "4/4 [==============================] - 1s 313ms/step - loss: 0.7867 - accuracy: 0.8100\n",
            "Found 492 images belonging to 10 classes.\n",
            "Found 100 images belonging to 10 classes.\n",
            "Training for resnetv2 is complete!\n"
          ]
        },
        {
          "output_type": "stream",
          "name": "stderr",
          "text": [
            "/usr/local/lib/python3.10/dist-packages/keras/src/engine/training.py:3103: UserWarning: You are saving your model as an HDF5 file via `model.save()`. This file format is considered legacy. We recommend using instead the native Keras format, e.g. `model.save('my_model.keras')`.\n",
            "  saving_api.save_model(\n"
          ]
        },
        {
          "output_type": "stream",
          "name": "stdout",
          "text": [
            "4/4 [==============================] - 1s 108ms/step - loss: 0.2849 - accuracy: 0.8600\n"
          ]
        }
      ]
    },
    {
      "cell_type": "code",
      "source": [
        "categories = model_hub.keys()\n",
        "num_categories = len(categories)\n",
        "\n",
        "# Positions of the bars on the x-axis\n",
        "bar_width = 0.4\n",
        "indices = np.arange(num_categories)\n",
        "\n",
        "# Positions for the grouped bars\n",
        "indices1 = indices\n",
        "indices2 = indices + bar_width\n",
        "indices3 = indices + 2 * bar_width\n",
        "\n",
        "# Create the bar plot\n",
        "plt.figure(figsize=(10, 6))\n",
        "\n",
        "plt.bar(indices1, loss_l, width=bar_width, label='Loss')\n",
        "plt.bar(indices2, acc_l, width=bar_width, label='Accuracy')\n",
        "\n",
        "# Add labels and title\n",
        "plt.title('Models Evaluation For Train = 50 and Test = 10')\n",
        "plt.title('Loss and Accuracy Comparison')\n",
        "plt.xticks(indices + bar_width, categories)\n",
        "\n",
        "# Add a legend\n",
        "plt.legend()\n",
        "\n",
        "# Show the plot\n",
        "plt.show()"
      ],
      "metadata": {
        "colab": {
          "base_uri": "https://localhost:8080/",
          "height": 545
        },
        "id": "MSpsc1gspcCS",
        "outputId": "3b843529-0124-4ff8-f13c-2216ba120e08"
      },
      "execution_count": null,
      "outputs": [
        {
          "output_type": "display_data",
          "data": {
            "text/plain": [
              "<Figure size 1000x600 with 1 Axes>"
            ],
            "image/png": "[encoded data removed]"
          },
          "metadata": {}
        }
      ]
    },
    {
      "cell_type": "code",
      "source": [
        "plt.figure(figsize = (9, 5))\n",
        "plt.bar(categories, size_l)\n",
        "plt.title('Size Comparison')"
      ],
      "metadata": {
        "colab": {
          "base_uri": "https://localhost:8080/",
          "height": 485
        },
        "id": "qaI-8--jqhuu",
        "outputId": "64c60a3a-091e-4851-a269-71cf71a1a43b"
      },
      "execution_count": null,
      "outputs": [
        {
          "output_type": "execute_result",
          "data": {
            "text/plain": [
              "Text(0.5, 1.0, 'Size Comparison')"
            ]
          },
          "metadata": {},
          "execution_count": 25
        },
        {
          "output_type": "display_data",
          "data": {
            "text/plain": [
              "<Figure size 900x500 with 1 Axes>"
            ],
            "image/png": "[encoded data removed]"
          },
          "metadata": {}
        }
      ]
    }
  ]
}