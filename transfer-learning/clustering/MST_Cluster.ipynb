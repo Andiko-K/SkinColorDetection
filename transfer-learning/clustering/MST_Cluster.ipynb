{
 "cells": [
  {
   "cell_type": "code",
   "execution_count": 116,
   "id": "b6ef3f9a-7390-43ae-8249-3a3566f89ad6",
   "metadata": {},
   "outputs": [],
   "source": [
    "from tensorflow.keras.preprocessing.image import load_img, img_to_array\n",
    "from tensorflow.keras.applications import MobileNetV2\n",
    "import tensorflow as tf\n",
    "\n",
    "from sklearn.cluster import KMeans\n",
    "from sklearn.decomposition import PCA\n",
    "\n",
    "import os\n",
    "import numpy as np\n",
    "import matplotlib.pyplot as plt\n",
    "from random import randint\n",
    "import pandas as pd\n",
    "import pickle\n",
    "\n",
    "os.environ['TF_CPP_MIN_LOG_LEVEL'] = '3' "
   ]
  },
  {
   "cell_type": "code",
   "execution_count": 117,
   "id": "f0542793-2cfa-4254-8fab-d1eef59f032c",
   "metadata": {},
   "outputs": [],
   "source": [
    "'''Define Model'''\n",
    "model = MobileNetV2()\n",
    "model = tf.keras.models.Model(inputs = model.inputs,\n",
    "                              outputs = model.layers[-2].output)\n",
    "\n",
    "'''Path to Folder'''\n",
    "path = 'mst_dataset'\n",
    "face_dir = sorted(os.listdir('mst_dataset'))\n",
    "\n",
    "'''Feature Extraction'''\n",
    "def extract_features(file,model):\n",
    "    img = load_img(file, target_size = (224,224))\n",
    "    img = np.expand_dims(np.array(img),0)\n",
    "    x = img/255\n",
    "    features = model.predict(x, use_multiprocessing = True)\n",
    "    return features\n",
    "\n",
    "'''Perform PCA'''\n",
    "def perform_PCA(n_comp = 50, features = None):\n",
    "    pca = PCA(n_components = n_comp, random_state = 22)\n",
    "    comp = pca.fit_transform(features)\n",
    "    return comp\n",
    "\n",
    "'''Z Normalization and Removing Outliers'''\n",
    "def ZNorm(comp, threshold = 3):\n",
    "    z_score = (comp - np.mean(comp, axis = 0))/np.std(comp, axis = 0)\n",
    "    z_score = np.abs(z_score)\n",
    "    outliers = (z_score > threshold).any(axis = 1)\n",
    "    comp_cleaned = comp[~outliers]\n",
    "    \n",
    "    return comp_cleaned\n",
    "\n",
    "'''K Means to Retrieve Center'''\n",
    "def center_c(comp_cleaned, random_state = 22):\n",
    "    kmeans = KMeans(n_clusters=1, random_state=random_state)\n",
    "    kmeans.fit(comp_cleaned)\n",
    "\n",
    "    cluster_centers = kmeans.cluster_centers_\n",
    "    return cluster_centers"
   ]
  },
  {
   "cell_type": "code",
   "execution_count": null,
   "id": "8180f960-11d2-4e78-8368-cfc0eee73ee6",
   "metadata": {},
   "outputs": [],
   "source": [
    "def get_cluster(path = path, dir_list = face_dir, model = model):\n",
    "    center_point = []\n",
    "    error_file = {}\n",
    "    for dir_ in dir_list:\n",
    "        dir_path = os.path.join(path, dir_)\n",
    "        images = os.listdir(dir_path)\n",
    "        error_file[dir_] = []\n",
    "        \n",
    "        print(f'Processing {dir_}')\n",
    "        \n",
    "        features = []\n",
    "        for image in images:\n",
    "            try:\n",
    "                image_path = os.path.join(dir_path, image)\n",
    "                feat = extract_features(image_path, model)\n",
    "                features.append(feat)\n",
    "            except Exception as e:\n",
    "                error_file[dir_].append(image)\n",
    "                print(f'\\nError {e} at\\n{image}')\n",
    "        \n",
    "        features = np.array(features)\n",
    "        features = features.reshape(-1,1280)\n",
    "        \n",
    "        comp = perform_PCA(features = features)\n",
    "        comp_cleaned = ZNorm(comp)\n",
    "        \n",
    "        center = center_c(comp_cleaned)\n",
    "\n",
    "        center_point.append(center)\n",
    "        print('Process Completed')\n",
    "    center_point = np.array(center_point)\n",
    "    return center_point, error_file"
   ]
  },
  {
   "cell_type": "code",
   "execution_count": 108,
   "id": "c57df50e-4831-4591-997d-39b6c3cbf423",
   "metadata": {},
   "outputs": [
    {
     "name": "stdout",
     "output_type": "stream",
     "text": [
      "Processing Tone01\n",
      "Process Completed\n",
      "Processing Tone02\n",
      "Process Completed\n",
      "Processing Tone03\n",
      "Process Completed\n",
      "Processing Tone04\n",
      "Process Completed\n",
      "Processing Tone05\n",
      "Process Completed\n",
      "Processing Tone06\n",
      "Process Completed\n",
      "Processing Tone07\n",
      "Process Completed\n",
      "Processing Tone08\n",
      "Process Completed\n",
      "Processing Tone09\n",
      "Process Completed\n",
      "Processing Tone10\n",
      "Process Completed\n"
     ]
    }
   ],
   "source": [
    "center_point, error = get_cluster()"
   ]
  },
  {
   "cell_type": "code",
   "execution_count": 141,
   "id": "d50406a4-e2e1-4278-bae9-9557f36a9309",
   "metadata": {},
   "outputs": [],
   "source": [
    "center_point = np.load('./cluster_center.npy')\n",
    "def centroid_distance(path = path, dir_list = face_dir, model = model):\n",
    "    center_point = []\n",
    "    error_file = {}\n",
    "    for dir_ in dir_list:\n",
    "        dir_path = os.path.join(path, dir_)\n",
    "        images = os.listdir(dir_path)\n",
    "        error_file[dir_] = []\n",
    "        \n",
    "        print(f'Processing {dir_}')\n",
    "        \n",
    "        features = []\n",
    "        for image in images:\n",
    "            try:\n",
    "                image_path = os.path.join(dir_path, image)\n",
    "                feat = extract_features(image_path, model)\n",
    "                features.append(feat)\n",
    "            except Exception as e:\n",
    "                error_file[dir_].append(image)\n",
    "                print(f'\\nError {e} at\\n{image}')\n",
    "        \n",
    "        features = np.array(features)\n",
    "        features = features.reshape(-1,1280)\n",
    "        \n",
    "        comp = perform_PCA(features = features)\n",
    "        return comp\n",
    "        break"
   ]
  },
  {
   "cell_type": "code",
   "execution_count": 142,
   "id": "304df3f0-4c02-414e-85cf-f82fada6bba5",
   "metadata": {},
   "outputs": [
    {
     "name": "stdout",
     "output_type": "stream",
     "text": [
      "Processing Tone01\n"
     ]
    }
   ],
   "source": [
    "this_comp = centroid_distance()"
   ]
  },
  {
   "cell_type": "code",
   "execution_count": 146,
   "id": "5da22de6-435b-4117-8798-750114220fd4",
   "metadata": {},
   "outputs": [
    {
     "data": {
      "text/plain": [
       "(50,)"
      ]
     },
     "execution_count": 146,
     "metadata": {},
     "output_type": "execute_result"
    }
   ],
   "source": [
    "this_comp[0].shape"
   ]
  },
  {
   "cell_type": "code",
   "execution_count": 147,
   "id": "96f9b43e-5cbf-4006-9dff-7d8e06f36e3c",
   "metadata": {},
   "outputs": [
    {
     "data": {
      "text/plain": [
       "(50,)"
      ]
     },
     "execution_count": 147,
     "metadata": {},
     "output_type": "execute_result"
    }
   ],
   "source": [
    "center_point[0][0].shape"
   ]
  },
  {
   "cell_type": "code",
   "execution_count": 160,
   "id": "78e630f8-e081-4158-9c4c-25510fd68b08",
   "metadata": {},
   "outputs": [
    {
     "name": "stdout",
     "output_type": "stream",
     "text": [
      "12.968511\n",
      "13.24963\n",
      "12.361787\n",
      "12.255261\n",
      "12.864468\n",
      "13.168463\n",
      "12.4302225\n",
      "12.107332\n",
      "12.038676\n",
      "12.2505665\n"
     ]
    }
   ],
   "source": [
    "for i in range(10):\n",
    "    dist = np.squeeze(center_point, axis = 1)[i]-this_comp[2]\n",
    "    dist = dist**2\n",
    "    print(np.sqrt(np.sum(dist)))"
   ]
  },
  {
   "cell_type": "code",
   "execution_count": null,
   "id": "4b35c15b-e16d-4784-b6c3-332f204c1571",
   "metadata": {},
   "outputs": [],
   "source": []
  }
 ],
 "metadata": {
  "kernelspec": {
   "display_name": "Python (skin)",
   "language": "python",
   "name": "skin"
  },
  "language_info": {
   "codemirror_mode": {
    "name": "ipython",
    "version": 3
   },
   "file_extension": ".py",
   "mimetype": "text/x-python",
   "name": "python",
   "nbconvert_exporter": "python",
   "pygments_lexer": "ipython3",
   "version": "3.10.4"
  }
 },
 "nbformat": 4,
 "nbformat_minor": 5
}
